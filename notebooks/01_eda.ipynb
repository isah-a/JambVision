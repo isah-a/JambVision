{
 "cells": [
  {
   "cell_type": "code",
   "execution_count": 2,
   "metadata": {},
   "outputs": [],
   "source": [
    "# Importing necessary libraries\n",
    "import numpy as np\n",
    "import pandas as pd\n",
    "import matplotlib.pyplot as plt\n",
    "import seaborn as sns"
   ]
  },
  {
   "cell_type": "markdown",
   "metadata": {},
   "source": [
    "## 1. Read and Inspect the data"
   ]
  },
  {
   "cell_type": "code",
   "execution_count": 4,
   "metadata": {},
   "outputs": [
    {
     "name": "stdout",
     "output_type": "stream",
     "text": [
      "(2000, 19)\n"
     ]
    },
    {
     "data": {
      "text/html": [
       "<div>\n",
       "<style scoped>\n",
       "    .dataframe tbody tr th:only-of-type {\n",
       "        vertical-align: middle;\n",
       "    }\n",
       "\n",
       "    .dataframe tbody tr th {\n",
       "        vertical-align: top;\n",
       "    }\n",
       "\n",
       "    .dataframe thead th {\n",
       "        text-align: right;\n",
       "    }\n",
       "</style>\n",
       "<table border=\"1\" class=\"dataframe\">\n",
       "  <thead>\n",
       "    <tr style=\"text-align: right;\">\n",
       "      <th></th>\n",
       "      <th>Age</th>\n",
       "      <th>Gender</th>\n",
       "      <th>Location</th>\n",
       "      <th>Parental Occupation</th>\n",
       "      <th>Study Hours</th>\n",
       "      <th>Previously Written JAMB</th>\n",
       "      <th>WAEC English Score</th>\n",
       "      <th>WAEC Maths Score</th>\n",
       "      <th>Internet Access</th>\n",
       "      <th>Understanding of Subjects</th>\n",
       "      <th>Confidence in JAMB Success</th>\n",
       "      <th>CBT Experience</th>\n",
       "      <th>Feelings about CBT</th>\n",
       "      <th>Learning Materials Availability</th>\n",
       "      <th>Educational Technology Usage</th>\n",
       "      <th>Support for Exam Preparation</th>\n",
       "      <th>Suggestions for School Improvement</th>\n",
       "      <th>Adequate JAMB Preparation</th>\n",
       "      <th>Result</th>\n",
       "    </tr>\n",
       "  </thead>\n",
       "  <tbody>\n",
       "    <tr>\n",
       "      <th>0</th>\n",
       "      <td>17</td>\n",
       "      <td>Female</td>\n",
       "      <td>Epe (Public)</td>\n",
       "      <td>Artisan</td>\n",
       "      <td>1-3 hours</td>\n",
       "      <td>No</td>\n",
       "      <td>74</td>\n",
       "      <td>76</td>\n",
       "      <td>Yes</td>\n",
       "      <td>Good</td>\n",
       "      <td>Not confident</td>\n",
       "      <td>No</td>\n",
       "      <td>Uncomfortable</td>\n",
       "      <td>Excellent</td>\n",
       "      <td>Always</td>\n",
       "      <td>Extra lessons, More past questions</td>\n",
       "      <td>More teachers</td>\n",
       "      <td>No</td>\n",
       "      <td>Fail</td>\n",
       "    </tr>\n",
       "    <tr>\n",
       "      <th>1</th>\n",
       "      <td>17</td>\n",
       "      <td>Female</td>\n",
       "      <td>Epe (Public)</td>\n",
       "      <td>Artisan</td>\n",
       "      <td>1-3 hours</td>\n",
       "      <td>Yes</td>\n",
       "      <td>88</td>\n",
       "      <td>96</td>\n",
       "      <td>Yes</td>\n",
       "      <td>Poor</td>\n",
       "      <td>Confident</td>\n",
       "      <td>Yes</td>\n",
       "      <td>Uncomfortable</td>\n",
       "      <td>Excellent</td>\n",
       "      <td>Never</td>\n",
       "      <td>Counseling</td>\n",
       "      <td>More teachers</td>\n",
       "      <td>Yes</td>\n",
       "      <td>Pass</td>\n",
       "    </tr>\n",
       "  </tbody>\n",
       "</table>\n",
       "</div>"
      ],
      "text/plain": [
       "   Age  Gender      Location Parental Occupation Study Hours  \\\n",
       "0   17  Female  Epe (Public)             Artisan   1-3 hours   \n",
       "1   17  Female  Epe (Public)             Artisan   1-3 hours   \n",
       "\n",
       "  Previously Written JAMB  WAEC English Score  WAEC Maths Score  \\\n",
       "0                      No                  74                76   \n",
       "1                     Yes                  88                96   \n",
       "\n",
       "  Internet Access Understanding of Subjects Confidence in JAMB Success  \\\n",
       "0             Yes                      Good              Not confident   \n",
       "1             Yes                      Poor                  Confident   \n",
       "\n",
       "  CBT Experience Feelings about CBT Learning Materials Availability  \\\n",
       "0             No      Uncomfortable                       Excellent   \n",
       "1            Yes      Uncomfortable                       Excellent   \n",
       "\n",
       "  Educational Technology Usage        Support for Exam Preparation  \\\n",
       "0                       Always  Extra lessons, More past questions   \n",
       "1                        Never                          Counseling   \n",
       "\n",
       "  Suggestions for School Improvement Adequate JAMB Preparation Result  \n",
       "0                      More teachers                        No   Fail  \n",
       "1                      More teachers                       Yes   Pass  "
      ]
     },
     "execution_count": 4,
     "metadata": {},
     "output_type": "execute_result"
    }
   ],
   "source": [
    "path = '../data/jamb_survey_data_with_result.csv'\n",
    "data = pd.read_csv(path)\n",
    "print (data.shape)\n",
    "data.head(2)"
   ]
  },
  {
   "cell_type": "code",
   "execution_count": 5,
   "metadata": {},
   "outputs": [
    {
     "name": "stdout",
     "output_type": "stream",
     "text": [
      "<class 'pandas.core.frame.DataFrame'>\n",
      "RangeIndex: 2000 entries, 0 to 1999\n",
      "Data columns (total 19 columns):\n",
      " #   Column                              Non-Null Count  Dtype \n",
      "---  ------                              --------------  ----- \n",
      " 0   Age                                 2000 non-null   int64 \n",
      " 1   Gender                              2000 non-null   object\n",
      " 2   Location                            2000 non-null   object\n",
      " 3   Parental Occupation                 2000 non-null   object\n",
      " 4   Study Hours                         2000 non-null   object\n",
      " 5   Previously Written JAMB             2000 non-null   object\n",
      " 6   WAEC English Score                  2000 non-null   int64 \n",
      " 7   WAEC Maths Score                    2000 non-null   int64 \n",
      " 8   Internet Access                     2000 non-null   object\n",
      " 9   Understanding of Subjects           2000 non-null   object\n",
      " 10  Confidence in JAMB Success          2000 non-null   object\n",
      " 11  CBT Experience                      2000 non-null   object\n",
      " 12  Feelings about CBT                  2000 non-null   object\n",
      " 13  Learning Materials Availability     2000 non-null   object\n",
      " 14  Educational Technology Usage        2000 non-null   object\n",
      " 15  Support for Exam Preparation        2000 non-null   object\n",
      " 16  Suggestions for School Improvement  2000 non-null   object\n",
      " 17  Adequate JAMB Preparation           2000 non-null   object\n",
      " 18  Result                              2000 non-null   object\n",
      "dtypes: int64(3), object(16)\n",
      "memory usage: 297.0+ KB\n"
     ]
    }
   ],
   "source": [
    "data.info()"
   ]
  },
  {
   "cell_type": "code",
   "execution_count": 6,
   "metadata": {},
   "outputs": [
    {
     "name": "stdout",
     "output_type": "stream",
     "text": [
      "******************** data for: Age *********************************\n",
      "20    418\n",
      "19    416\n",
      "17    403\n",
      "16    392\n",
      "18    371\n",
      "Name: Age, dtype: int64\n",
      "*****************************************************\n",
      "******************** data for: Gender *********************************\n",
      "Female    1009\n",
      "Male       991\n",
      "Name: Gender, dtype: int64\n",
      "*****************************************************\n",
      "******************** data for: Location *********************************\n",
      "Ikorodu (Public)             429\n",
      "Epe (Public)                 413\n",
      "Victoria Island (Private)    406\n",
      "Lekki (Private)              379\n",
      "Others                       373\n",
      "Name: Location, dtype: int64\n",
      "*****************************************************\n",
      "******************** data for: Parental Occupation *********************************\n",
      "Trader            416\n",
      "Civil servant     408\n",
      "Business owner    405\n",
      "Artisan           395\n",
      "Teacher           376\n",
      "Name: Parental Occupation, dtype: int64\n",
      "*****************************************************\n",
      "******************** data for: Study Hours *********************************\n",
      "Less than 1 hour     518\n",
      "More than 5 hours    513\n",
      "1-3 hours            504\n",
      "3-5 hours            465\n",
      "Name: Study Hours, dtype: int64\n",
      "*****************************************************\n",
      "******************** data for: Previously Written JAMB *********************************\n",
      "No     1012\n",
      "Yes     988\n",
      "Name: Previously Written JAMB, dtype: int64\n",
      "*****************************************************\n",
      "******************** data for: WAEC English Score *********************************\n",
      "49     44\n",
      "99     44\n",
      "51     42\n",
      "76     42\n",
      "57     41\n",
      "       ..\n",
      "79     25\n",
      "100    25\n",
      "81     24\n",
      "48     24\n",
      "70     22\n",
      "Name: WAEC English Score, Length: 61, dtype: int64\n",
      "*****************************************************\n",
      "******************** data for: WAEC Maths Score *********************************\n",
      "65    47\n",
      "60    43\n",
      "67    42\n",
      "40    42\n",
      "43    42\n",
      "      ..\n",
      "63    24\n",
      "81    24\n",
      "53    22\n",
      "55    21\n",
      "52    19\n",
      "Name: WAEC Maths Score, Length: 61, dtype: int64\n",
      "*****************************************************\n",
      "******************** data for: Internet Access *********************************\n",
      "No     1013\n",
      "Yes     987\n",
      "Name: Internet Access, dtype: int64\n",
      "*****************************************************\n",
      "******************** data for: Understanding of Subjects *********************************\n",
      "Poor         529\n",
      "Average      500\n",
      "Good         494\n",
      "Excellent    477\n",
      "Name: Understanding of Subjects, dtype: int64\n",
      "*****************************************************\n",
      "******************** data for: Confidence in JAMB Success *********************************\n",
      "Very confident        530\n",
      "Confident             517\n",
      "Not confident         487\n",
      "Somewhat confident    466\n",
      "Name: Confidence in JAMB Success, dtype: int64\n",
      "*****************************************************\n",
      "******************** data for: CBT Experience *********************************\n",
      "No     1046\n",
      "Yes     954\n",
      "Name: CBT Experience, dtype: int64\n",
      "*****************************************************\n",
      "******************** data for: Feelings about CBT *********************************\n",
      "Comfortable      679\n",
      "Uncomfortable    668\n",
      "Neutral          653\n",
      "Name: Feelings about CBT, dtype: int64\n",
      "*****************************************************\n",
      "******************** data for: Learning Materials Availability *********************************\n",
      "Excellent    510\n",
      "Poor         498\n",
      "Good         497\n",
      "Fair         495\n",
      "Name: Learning Materials Availability, dtype: int64\n",
      "*****************************************************\n",
      "******************** data for: Educational Technology Usage *********************************\n",
      "Often           518\n",
      "Occasionally    506\n",
      "Never           492\n",
      "Always          484\n",
      "Name: Educational Technology Usage, dtype: int64\n",
      "*****************************************************\n",
      "******************** data for: Support for Exam Preparation *********************************\n",
      "Counseling                                           153\n",
      "Tutors                                               137\n",
      "Better textbooks                                     136\n",
      "Extra lessons                                        124\n",
      "More past questions                                  117\n",
      "                                                    ... \n",
      "More past questions, Counseling, Better textbooks      7\n",
      "Counseling, Better textbooks, More past questions      6\n",
      "Tutors, More past questions, Better textbooks          6\n",
      "Counseling, More past questions, Better textbooks      6\n",
      "Extra lessons, Tutors, Better textbooks                3\n",
      "Name: Support for Exam Preparation, Length: 85, dtype: int64\n",
      "*****************************************************\n",
      "******************** data for: Suggestions for School Improvement *********************************\n",
      "Extra classes             533\n",
      "Improved facilities       491\n",
      "More practical lessons    490\n",
      "More teachers             486\n",
      "Name: Suggestions for School Improvement, dtype: int64\n",
      "*****************************************************\n",
      "******************** data for: Adequate JAMB Preparation *********************************\n",
      "Yes    1048\n",
      "No      952\n",
      "Name: Adequate JAMB Preparation, dtype: int64\n",
      "*****************************************************\n",
      "******************** data for: Result *********************************\n",
      "Fail    1664\n",
      "Pass     336\n",
      "Name: Result, dtype: int64\n",
      "*****************************************************\n"
     ]
    }
   ],
   "source": [
    "cols = data.columns\n",
    "\n",
    "for col in cols:\n",
    "    print (f\"******************** data for: {col} *********************************\\n{data[col].value_counts()}\\n*****************************************************\")"
   ]
  },
  {
   "cell_type": "code",
   "execution_count": 7,
   "metadata": {},
   "outputs": [
    {
     "data": {
      "text/plain": [
       "Index(['Age', 'Gender', 'Location', 'Parental Occupation', 'Study Hours',\n",
       "       'Previously Written JAMB', 'WAEC English Score', 'WAEC Maths Score',\n",
       "       'Internet Access', 'Understanding of Subjects',\n",
       "       'Confidence in JAMB Success', 'CBT Experience', 'Feelings about CBT',\n",
       "       'Learning Materials Availability', 'Educational Technology Usage',\n",
       "       'Support for Exam Preparation', 'Suggestions for School Improvement',\n",
       "       'Adequate JAMB Preparation', 'Result'],\n",
       "      dtype='object')"
      ]
     },
     "execution_count": 7,
     "metadata": {},
     "output_type": "execute_result"
    }
   ],
   "source": [
    "cols"
   ]
  },
  {
   "cell_type": "code",
   "execution_count": 8,
   "metadata": {},
   "outputs": [
    {
     "data": {
      "text/plain": [
       "<AxesSubplot:xlabel='Age', ylabel='count'>"
      ]
     },
     "execution_count": 8,
     "metadata": {},
     "output_type": "execute_result"
    },
    {
     "data": {
      "image/png": "[encoded data removed]",
      "text/plain": [
       "<Figure size 720x504 with 1 Axes>"
      ]
     },
     "metadata": {
      "needs_background": "light"
     },
     "output_type": "display_data"
    }
   ],
   "source": [
    "plt.figure(figsize=(10, 7))\n",
    "sns.countplot(data=data, x='Age', hue='Gender')\n",
    "# plt.legend()"
   ]
  },
  {
   "cell_type": "code",
   "execution_count": 9,
   "metadata": {},
   "outputs": [
    {
     "data": {
      "text/plain": [
       "<AxesSubplot:xlabel='count', ylabel='Gender'>"
      ]
     },
     "execution_count": 9,
     "metadata": {},
     "output_type": "execute_result"
    },
    {
     "data": {
      "image/png": "[encoded data removed]",
      "text/plain": [
       "<Figure size 432x288 with 1 Axes>"
      ]
     },
     "metadata": {
      "needs_background": "light"
     },
     "output_type": "display_data"
    }
   ],
   "source": [
    "sns.countplot(data=data, y='Gender', hue='Result')"
   ]
  },
  {
   "cell_type": "code",
   "execution_count": 10,
   "metadata": {},
   "outputs": [
    {
     "data": {
      "image/png": "[encoded data removed]",
      "text/plain": [
       "<Figure size 720x504 with 1 Axes>"
      ]
     },
     "metadata": {
      "needs_background": "light"
     },
     "output_type": "display_data"
    }
   ],
   "source": [
    "plt.figure(figsize=(10, 7))\n",
    "sns.countplot(data=data, x='Location', hue='Result')\n",
    "plt.tight_layout()"
   ]
  },
  {
   "cell_type": "markdown",
   "metadata": {},
   "source": [
    "## 2. Text Analytics\n",
    "\n",
    "`All other advanced analytics can be found in the powerbi dashboard`"
   ]
  },
  {
   "cell_type": "markdown",
   "metadata": {},
   "source": [
    "## 3. Modelling"
   ]
  },
  {
   "cell_type": "code",
   "execution_count": 11,
   "metadata": {},
   "outputs": [
    {
     "data": {
      "text/html": [
       "<div>\n",
       "<style scoped>\n",
       "    .dataframe tbody tr th:only-of-type {\n",
       "        vertical-align: middle;\n",
       "    }\n",
       "\n",
       "    .dataframe tbody tr th {\n",
       "        vertical-align: top;\n",
       "    }\n",
       "\n",
       "    .dataframe thead th {\n",
       "        text-align: right;\n",
       "    }\n",
       "</style>\n",
       "<table border=\"1\" class=\"dataframe\">\n",
       "  <thead>\n",
       "    <tr style=\"text-align: right;\">\n",
       "      <th></th>\n",
       "      <th>Location</th>\n",
       "      <th>Parental Occupation</th>\n",
       "      <th>Study Hours</th>\n",
       "      <th>Internet Access</th>\n",
       "      <th>Understanding of Subjects</th>\n",
       "      <th>Adequate JAMB Preparation</th>\n",
       "      <th>Result</th>\n",
       "    </tr>\n",
       "  </thead>\n",
       "  <tbody>\n",
       "    <tr>\n",
       "      <th>0</th>\n",
       "      <td>Epe (Public)</td>\n",
       "      <td>Artisan</td>\n",
       "      <td>1-3 hours</td>\n",
       "      <td>Yes</td>\n",
       "      <td>Good</td>\n",
       "      <td>No</td>\n",
       "      <td>Fail</td>\n",
       "    </tr>\n",
       "    <tr>\n",
       "      <th>1</th>\n",
       "      <td>Epe (Public)</td>\n",
       "      <td>Artisan</td>\n",
       "      <td>1-3 hours</td>\n",
       "      <td>Yes</td>\n",
       "      <td>Poor</td>\n",
       "      <td>Yes</td>\n",
       "      <td>Pass</td>\n",
       "    </tr>\n",
       "  </tbody>\n",
       "</table>\n",
       "</div>"
      ],
      "text/plain": [
       "       Location Parental Occupation Study Hours Internet Access  \\\n",
       "0  Epe (Public)             Artisan   1-3 hours             Yes   \n",
       "1  Epe (Public)             Artisan   1-3 hours             Yes   \n",
       "\n",
       "  Understanding of Subjects Adequate JAMB Preparation Result  \n",
       "0                      Good                        No   Fail  \n",
       "1                      Poor                       Yes   Pass  "
      ]
     },
     "execution_count": 11,
     "metadata": {},
     "output_type": "execute_result"
    }
   ],
   "source": [
    "# Selecting only relevant columns for model prediction\n",
    "subset = data[['Location', 'Parental Occupation', \n",
    "      'Study Hours', 'Internet Access', \n",
    "      'Understanding of Subjects', 'Adequate JAMB Preparation', 'Result']]\n",
    "\n",
    "subset.head(2)"
   ]
  },
  {
   "cell_type": "code",
   "execution_count": 12,
   "metadata": {},
   "outputs": [],
   "source": [
    "loction_map = {\n",
    "    'Ikorodu (Public)': 1,\n",
    "    'Epe (Public)': 1,\n",
    "    'Victoria Island (Private)':2,\n",
    "    'Lekki (Private)': 2, \n",
    "    'Others': 0}\n",
    "\n",
    "study_map = {'Less than 1 hour': 0,\n",
    "             '1-3 hours':1,\n",
    "             '3-5 hours ':2,\n",
    "             'More than 5 hours': 3}\n",
    "\n",
    "understanding_map = {\n",
    "    'Poor':0,\n",
    "    'Average': 1,\n",
    "    'Good': 2,\n",
    "    'Excellent':3 \n",
    "}\n",
    "\n",
    "parent_occupation_map = {\n",
    "    'Trader':0,\n",
    "    'Civil servant': 3,\n",
    "    'Business owner':2,\n",
    "    'Artisan': 1,\n",
    "    'Teacher':4}\n",
    "\n",
    "internet_map = {\n",
    "    'Yes':1,\n",
    "    'No':0\n",
    "}\n",
    "\n",
    "jamb_prep_map = {\n",
    "    'Yes':1,\n",
    "    'No':0\n",
    "}\n",
    "label_map = {\n",
    "    'Fail':0,\n",
    "    'Pass':1\n",
    "}\n",
    "\n",
    "\n"
   ]
  },
  {
   "cell_type": "code",
   "execution_count": 13,
   "metadata": {},
   "outputs": [
    {
     "name": "stderr",
     "output_type": "stream",
     "text": [
      "c:\\Users\\user\\anaconda3\\envs\\ml-env\\lib\\site-packages\\pandas\\core\\indexing.py:1951: SettingWithCopyWarning: \n",
      "A value is trying to be set on a copy of a slice from a DataFrame.\n",
      "Try using .loc[row_indexer,col_indexer] = value instead\n",
      "\n",
      "See the caveats in the documentation: https://pandas.pydata.org/pandas-docs/stable/user_guide/indexing.html#returning-a-view-versus-a-copy\n",
      "  self.obj[selected_item_labels] = value\n",
      "c:\\Users\\user\\anaconda3\\envs\\ml-env\\lib\\site-packages\\pandas\\core\\indexing.py:1773: SettingWithCopyWarning: \n",
      "A value is trying to be set on a copy of a slice from a DataFrame.\n",
      "Try using .loc[row_indexer,col_indexer] = value instead\n",
      "\n",
      "See the caveats in the documentation: https://pandas.pydata.org/pandas-docs/stable/user_guide/indexing.html#returning-a-view-versus-a-copy\n",
      "  self._setitem_single_column(ilocs[0], value, pi)\n"
     ]
    },
    {
     "data": {
      "text/html": [
       "<div>\n",
       "<style scoped>\n",
       "    .dataframe tbody tr th:only-of-type {\n",
       "        vertical-align: middle;\n",
       "    }\n",
       "\n",
       "    .dataframe tbody tr th {\n",
       "        vertical-align: top;\n",
       "    }\n",
       "\n",
       "    .dataframe thead th {\n",
       "        text-align: right;\n",
       "    }\n",
       "</style>\n",
       "<table border=\"1\" class=\"dataframe\">\n",
       "  <thead>\n",
       "    <tr style=\"text-align: right;\">\n",
       "      <th></th>\n",
       "      <th>Location</th>\n",
       "      <th>Parental Occupation</th>\n",
       "      <th>Study Hours</th>\n",
       "      <th>Internet Access</th>\n",
       "      <th>Understanding of Subjects</th>\n",
       "      <th>Adequate JAMB Preparation</th>\n",
       "      <th>Result</th>\n",
       "    </tr>\n",
       "  </thead>\n",
       "  <tbody>\n",
       "    <tr>\n",
       "      <th>0</th>\n",
       "      <td>1</td>\n",
       "      <td>1</td>\n",
       "      <td>1.0</td>\n",
       "      <td>1</td>\n",
       "      <td>2</td>\n",
       "      <td>0</td>\n",
       "      <td>0</td>\n",
       "    </tr>\n",
       "    <tr>\n",
       "      <th>1</th>\n",
       "      <td>1</td>\n",
       "      <td>1</td>\n",
       "      <td>1.0</td>\n",
       "      <td>1</td>\n",
       "      <td>0</td>\n",
       "      <td>1</td>\n",
       "      <td>1</td>\n",
       "    </tr>\n",
       "    <tr>\n",
       "      <th>2</th>\n",
       "      <td>2</td>\n",
       "      <td>3</td>\n",
       "      <td>1.0</td>\n",
       "      <td>0</td>\n",
       "      <td>3</td>\n",
       "      <td>0</td>\n",
       "      <td>0</td>\n",
       "    </tr>\n",
       "    <tr>\n",
       "      <th>3</th>\n",
       "      <td>2</td>\n",
       "      <td>2</td>\n",
       "      <td>3.0</td>\n",
       "      <td>0</td>\n",
       "      <td>3</td>\n",
       "      <td>1</td>\n",
       "      <td>0</td>\n",
       "    </tr>\n",
       "    <tr>\n",
       "      <th>4</th>\n",
       "      <td>0</td>\n",
       "      <td>0</td>\n",
       "      <td>1.0</td>\n",
       "      <td>1</td>\n",
       "      <td>1</td>\n",
       "      <td>0</td>\n",
       "      <td>0</td>\n",
       "    </tr>\n",
       "    <tr>\n",
       "      <th>...</th>\n",
       "      <td>...</td>\n",
       "      <td>...</td>\n",
       "      <td>...</td>\n",
       "      <td>...</td>\n",
       "      <td>...</td>\n",
       "      <td>...</td>\n",
       "      <td>...</td>\n",
       "    </tr>\n",
       "    <tr>\n",
       "      <th>1995</th>\n",
       "      <td>2</td>\n",
       "      <td>4</td>\n",
       "      <td>3.0</td>\n",
       "      <td>1</td>\n",
       "      <td>0</td>\n",
       "      <td>0</td>\n",
       "      <td>1</td>\n",
       "    </tr>\n",
       "    <tr>\n",
       "      <th>1996</th>\n",
       "      <td>1</td>\n",
       "      <td>0</td>\n",
       "      <td>1.0</td>\n",
       "      <td>0</td>\n",
       "      <td>3</td>\n",
       "      <td>1</td>\n",
       "      <td>0</td>\n",
       "    </tr>\n",
       "    <tr>\n",
       "      <th>1997</th>\n",
       "      <td>0</td>\n",
       "      <td>1</td>\n",
       "      <td>1.0</td>\n",
       "      <td>1</td>\n",
       "      <td>1</td>\n",
       "      <td>1</td>\n",
       "      <td>1</td>\n",
       "    </tr>\n",
       "    <tr>\n",
       "      <th>1998</th>\n",
       "      <td>2</td>\n",
       "      <td>0</td>\n",
       "      <td>0.0</td>\n",
       "      <td>1</td>\n",
       "      <td>2</td>\n",
       "      <td>0</td>\n",
       "      <td>0</td>\n",
       "    </tr>\n",
       "    <tr>\n",
       "      <th>1999</th>\n",
       "      <td>0</td>\n",
       "      <td>3</td>\n",
       "      <td>3.0</td>\n",
       "      <td>0</td>\n",
       "      <td>0</td>\n",
       "      <td>1</td>\n",
       "      <td>0</td>\n",
       "    </tr>\n",
       "  </tbody>\n",
       "</table>\n",
       "<p>2000 rows × 7 columns</p>\n",
       "</div>"
      ],
      "text/plain": [
       "      Location  Parental Occupation  Study Hours  Internet Access  \\\n",
       "0            1                    1          1.0                1   \n",
       "1            1                    1          1.0                1   \n",
       "2            2                    3          1.0                0   \n",
       "3            2                    2          3.0                0   \n",
       "4            0                    0          1.0                1   \n",
       "...        ...                  ...          ...              ...   \n",
       "1995         2                    4          3.0                1   \n",
       "1996         1                    0          1.0                0   \n",
       "1997         0                    1          1.0                1   \n",
       "1998         2                    0          0.0                1   \n",
       "1999         0                    3          3.0                0   \n",
       "\n",
       "      Understanding of Subjects  Adequate JAMB Preparation  Result  \n",
       "0                             2                          0       0  \n",
       "1                             0                          1       1  \n",
       "2                             3                          0       0  \n",
       "3                             3                          1       0  \n",
       "4                             1                          0       0  \n",
       "...                         ...                        ...     ...  \n",
       "1995                          0                          0       1  \n",
       "1996                          3                          1       0  \n",
       "1997                          1                          1       1  \n",
       "1998                          2                          0       0  \n",
       "1999                          0                          1       0  \n",
       "\n",
       "[2000 rows x 7 columns]"
      ]
     },
     "execution_count": 13,
     "metadata": {},
     "output_type": "execute_result"
    }
   ],
   "source": [
    "# subset.loc[:, 2] = \n",
    "# subset['Study Hours'].map(study_map)\n",
    "# subset.loc[:, ['Understanding of Subjects']] = subset['Understanding of Subjects'].map(understanding_map)\n",
    "subset.loc[:, 'Location'] = subset['Location'].map(loction_map)\n",
    "subset.loc[:, 'Understanding of Subjects'] = subset['Understanding of Subjects'].map(understanding_map)\n",
    "subset.loc[:, 'Parental Occupation'] = subset['Parental Occupation'].map(parent_occupation_map)\n",
    "subset.loc[:, 'Internet Access'] = subset['Internet Access'].map(internet_map)\n",
    "subset.loc[:, 'Study Hours'] = subset['Study Hours'].map(study_map)\n",
    "subset.loc[:, 'Adequate JAMB Preparation'] = subset['Adequate JAMB Preparation'].map(jamb_prep_map)\n",
    "subset.loc[:, 'Result'] = subset['Result'].map(label_map)\n",
    "\n",
    "\n",
    "subset"
   ]
  },
  {
   "cell_type": "code",
   "execution_count": 14,
   "metadata": {},
   "outputs": [],
   "source": [
    "import lightgbm as lgb\n",
    "from sklearn.model_selection import train_test_split\n",
    "from sklearn.metrics import f1_score, confusion_matrix"
   ]
  },
  {
   "cell_type": "code",
   "execution_count": 15,
   "metadata": {},
   "outputs": [
    {
     "data": {
      "text/plain": [
       "Index(['Location', 'Parental Occupation', 'Study Hours', 'Internet Access',\n",
       "       'Understanding of Subjects', 'Adequate JAMB Preparation', 'Result'],\n",
       "      dtype='object')"
      ]
     },
     "execution_count": 15,
     "metadata": {},
     "output_type": "execute_result"
    }
   ],
   "source": [
    "subset.columns"
   ]
  },
  {
   "cell_type": "code",
   "execution_count": 16,
   "metadata": {},
   "outputs": [
    {
     "data": {
      "text/plain": [
       "((2000, 6), (2000,))"
      ]
     },
     "execution_count": 16,
     "metadata": {},
     "output_type": "execute_result"
    }
   ],
   "source": [
    "inputs = subset.loc[:, ['Location', 'Parental Occupation', 'Study Hours', 'Internet Access',\n",
    "       'Understanding of Subjects', 'Adequate JAMB Preparation']]\n",
    "target = subset.loc[:,'Result']\n",
    "\n",
    "inputs.shape, target.shape"
   ]
  },
  {
   "cell_type": "code",
   "execution_count": 17,
   "metadata": {},
   "outputs": [
    {
     "name": "stdout",
     "output_type": "stream",
     "text": [
      "TRAIN_SIZE: ((1500, 6), (1500,)), VAL_SIZE: ((300, 6), (300,)),TEST_SIZE: ((200, 6), (200,)), \n",
      "  TOTAL_SHAPE: 2000, ORIGINAL_SHAPE: 2000\n"
     ]
    }
   ],
   "source": [
    "TRAIN_RATIO = 0.75\n",
    "VAL_RATIO = 0.15\n",
    "TEST_RATIO = 0.10\n",
    "\n",
    "train_x, test_x, train_y, test_y = train_test_split(inputs, target, test_size=1-TRAIN_RATIO)\n",
    "val_x, test_x, val_y, test_y = train_test_split (test_x, test_y, test_size= TEST_RATIO/(TEST_RATIO+VAL_RATIO), shuffle=False)\n",
    "print (f\"TRAIN_SIZE: {train_x.shape, train_y.shape}, VAL_SIZE: {val_x.shape, val_y.shape},TEST_SIZE: {test_x.shape, test_y.shape}, \\n  TOTAL_SHAPE: {train_x.shape[0]+val_x.shape[0]+test_x.shape[0]}, ORIGINAL_SHAPE: {subset.shape[0]}\")"
   ]
  },
  {
   "cell_type": "code",
   "execution_count": 18,
   "metadata": {},
   "outputs": [
    {
     "name": "stdout",
     "output_type": "stream",
     "text": [
      "[1]\ttraining's binary_logloss: 0.449664\tvalid_1's binary_logloss: 0.431967\n",
      "[2]\ttraining's binary_logloss: 0.448056\tvalid_1's binary_logloss: 0.431965\n",
      "[3]\ttraining's binary_logloss: 0.445882\tvalid_1's binary_logloss: 0.432394\n",
      "[4]\ttraining's binary_logloss: 0.444221\tvalid_1's binary_logloss: 0.433407\n",
      "[5]\ttraining's binary_logloss: 0.442451\tvalid_1's binary_logloss: 0.433664\n",
      "[6]\ttraining's binary_logloss: 0.440827\tvalid_1's binary_logloss: 0.434304\n",
      "[7]\ttraining's binary_logloss: 0.438769\tvalid_1's binary_logloss: 0.433885\n",
      "[8]\ttraining's binary_logloss: 0.437461\tvalid_1's binary_logloss: 0.433779\n",
      "[9]\ttraining's binary_logloss: 0.436511\tvalid_1's binary_logloss: 0.433294\n",
      "[10]\ttraining's binary_logloss: 0.435109\tvalid_1's binary_logloss: 0.433827\n",
      "[11]\ttraining's binary_logloss: 0.433465\tvalid_1's binary_logloss: 0.433392\n",
      "[12]\ttraining's binary_logloss: 0.432161\tvalid_1's binary_logloss: 0.43346\n",
      "[13]\ttraining's binary_logloss: 0.430652\tvalid_1's binary_logloss: 0.434182\n",
      "[14]\ttraining's binary_logloss: 0.429035\tvalid_1's binary_logloss: 0.434228\n",
      "[15]\ttraining's binary_logloss: 0.428\tvalid_1's binary_logloss: 0.434195\n",
      "[16]\ttraining's binary_logloss: 0.42665\tvalid_1's binary_logloss: 0.433804\n",
      "[17]\ttraining's binary_logloss: 0.424824\tvalid_1's binary_logloss: 0.433897\n",
      "[18]\ttraining's binary_logloss: 0.423351\tvalid_1's binary_logloss: 0.434984\n",
      "[19]\ttraining's binary_logloss: 0.422314\tvalid_1's binary_logloss: 0.434512\n",
      "[20]\ttraining's binary_logloss: 0.420997\tvalid_1's binary_logloss: 0.434128\n",
      "[21]\ttraining's binary_logloss: 0.419791\tvalid_1's binary_logloss: 0.435215\n",
      "[22]\ttraining's binary_logloss: 0.418962\tvalid_1's binary_logloss: 0.435209\n"
     ]
    },
    {
     "name": "stderr",
     "output_type": "stream",
     "text": [
      "c:\\Users\\user\\anaconda3\\envs\\ml-env\\lib\\site-packages\\lightgbm\\sklearn.py:726: UserWarning: 'early_stopping_rounds' argument is deprecated and will be removed in a future release of LightGBM. Pass 'early_stopping()' callback via 'callbacks' argument instead.\n",
      "  _log_warning(\"'early_stopping_rounds' argument is deprecated and will be removed in a future release of LightGBM. \"\n",
      "c:\\Users\\user\\anaconda3\\envs\\ml-env\\lib\\site-packages\\lightgbm\\sklearn.py:736: UserWarning: 'verbose' argument is deprecated and will be removed in a future release of LightGBM. Pass 'log_evaluation()' callback via 'callbacks' argument instead.\n",
      "  _log_warning(\"'verbose' argument is deprecated and will be removed in a future release of LightGBM. \"\n"
     ]
    },
    {
     "data": {
      "text/plain": [
       "LGBMClassifier(colsample_bytree=0.9, learning_rate=0.05, n_estimators=5000,\n",
       "               num_leaves=50, random_state=123, reg_alpha=0.1, reg_lambda=0.01,\n",
       "               subsample=0.9, verbose=-1)"
      ]
     },
     "execution_count": 18,
     "metadata": {},
     "output_type": "execute_result"
    }
   ],
   "source": [
    "lgb_model = lgb.LGBMClassifier(\n",
    "    colsample_bytree=0.9,       \n",
    "    subsample=0.9,             \n",
    "    num_leaves=50,             \n",
    "    learning_rate=0.05,       \n",
    "    reg_alpha=0.1,      \n",
    "    reg_lambda=0.01,   \n",
    "    n_estimators=5000,   \n",
    "    random_state=123,\n",
    "    verbose=-1\n",
    ")\n",
    "\n",
    "evalset = [(train_x, train_y), (test_x, test_y)]\n",
    "lgb_model.fit(\n",
    "    X=train_x, y=train_y, \n",
    "    eval_set=evalset, \n",
    "    early_stopping_rounds=20,  # Stop if no improvement for 20 rounds\n",
    "    eval_metric='binary_logloss',  # Focus on binary log loss for evaluation\n",
    "    verbose=True               # To display training progress\n",
    ")\n"
   ]
  },
  {
   "cell_type": "code",
   "execution_count": 19,
   "metadata": {},
   "outputs": [
    {
     "data": {
      "text/plain": [
       "<AxesSubplot:title={'center':'Metric during training'}, xlabel='Iterations', ylabel='binary_logloss'>"
      ]
     },
     "execution_count": 19,
     "metadata": {},
     "output_type": "execute_result"
    },
    {
     "data": {
      "image/png": "[encoded data removed]",
      "text/plain": [
       "<Figure size 432x288 with 1 Axes>"
      ]
     },
     "metadata": {
      "needs_background": "light"
     },
     "output_type": "display_data"
    }
   ],
   "source": [
    "lgb.plot_metric(lgb_model, 'binary_logloss')"
   ]
  },
  {
   "cell_type": "code",
   "execution_count": 20,
   "metadata": {},
   "outputs": [
    {
     "data": {
      "text/plain": [
       "0.845"
      ]
     },
     "execution_count": 20,
     "metadata": {},
     "output_type": "execute_result"
    }
   ],
   "source": [
    "# check prediction on test data\n",
    "pred = lgb_model.predict(test_x)\n",
    "f1_score(test_y, pred, average='micro')"
   ]
  },
  {
   "cell_type": "code",
   "execution_count": 21,
   "metadata": {},
   "outputs": [
    {
     "data": {
      "text/plain": [
       "['../models/lgb_model.pkl']"
      ]
     },
     "execution_count": 21,
     "metadata": {},
     "output_type": "execute_result"
    }
   ],
   "source": [
    "import joblib\n",
    "# save model\n",
    "joblib.dump(lgb_model, '../models/lgb_model.pkl')"
   ]
  },
  {
   "cell_type": "code",
   "execution_count": 22,
   "metadata": {},
   "outputs": [
    {
     "data": {
      "image/png": "[encoded data removed]",
      "text/plain": [
       "<Figure size 720x432 with 1 Axes>"
      ]
     },
     "metadata": {
      "needs_background": "light"
     },
     "output_type": "display_data"
    }
   ],
   "source": [
    "feature_importance = lgb_model.feature_importances_\n",
    "\n",
    "# Get feature names (if you used a DataFrame)\n",
    "feature_names = train_x.columns\n",
    "\n",
    "# Create a DataFrame for better visualization\n",
    "importance_df = pd.DataFrame({\n",
    "    'Feature': feature_names,\n",
    "    'Importance': feature_importance\n",
    "})\n",
    "\n",
    "# Sort by importance\n",
    "importance_df = importance_df.sort_values(by='Importance', ascending=False)\n",
    "\n",
    "# Plot\n",
    "plt.figure(figsize=(10, 6))\n",
    "sns.barplot(x='Importance', y='Feature', data=importance_df)\n",
    "plt.title('Feature Importance')\n",
    "plt.show()\n"
   ]
  },
  {
   "cell_type": "code",
   "execution_count": null,
   "metadata": {},
   "outputs": [],
   "source": []
  }
 ],
 "metadata": {
  "kernelspec": {
   "display_name": "ml-env",
   "language": "python",
   "name": "python3"
  },
  "language_info": {
   "codemirror_mode": {
    "name": "ipython",
    "version": 3
   },
   "file_extension": ".py",
   "mimetype": "text/x-python",
   "name": "python",
   "nbconvert_exporter": "python",
   "pygments_lexer": "ipython3",
   "version": "3.9.7"
  }
 },
 "nbformat": 4,
 "nbformat_minor": 2
}
