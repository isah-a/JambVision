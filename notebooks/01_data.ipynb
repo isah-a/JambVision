{
 "cells": [
  {
   "cell_type": "code",
   "execution_count": 2,
   "metadata": {},
   "outputs": [
    {
     "data": {
      "text/plain": [
       "'./synthetic_jamb_survey_data.csv'"
      ]
     },
     "execution_count": 2,
     "metadata": {},
     "output_type": "execute_result"
    }
   ],
   "source": [
    "import pandas as pd\n",
    "import random\n",
    "\n",
    "# Define parameters for the synthetic dataset\n",
    "num_responses = 2000\n",
    "ages = [16, 17, 18, 19, 20]\n",
    "genders = ['Male', 'Female']\n",
    "locations = ['Ikorodu (Public)', 'Epe (Public)', 'Victoria Island (Private)', 'Lekki (Private)', 'Others']\n",
    "parent_occupations = ['Business owner', 'Civil servant', 'Teacher', 'Artisan', 'Trader']\n",
    "study_hours = ['Less than 1 hour', '1-3 hours', '3-5 hours', 'More than 5 hours']\n",
    "waec_scores = range(40, 101)  # WAEC scores from 40 to 100\n",
    "understanding_levels = ['Poor', 'Average', 'Good', 'Excellent']\n",
    "confidence_levels = ['Not confident', 'Somewhat confident', 'Confident', 'Very confident']\n",
    "cbt_experience = ['Yes', 'No']\n",
    "cbt_feelings = ['Uncomfortable', 'Neutral', 'Comfortable']\n",
    "learning_materials_availability = ['Poor', 'Fair', 'Good', 'Excellent']\n",
    "edu_tech_usage = ['Never', 'Occasionally', 'Often', 'Always']\n",
    "support_options = ['More past questions', 'Extra lessons', 'Counseling', 'Better textbooks', 'Tutors']\n",
    "improvement_suggestions = ['More practical lessons', 'More teachers', 'Improved facilities', 'Extra classes']\n",
    "preparation = ['Yes', 'No']\n",
    "\n",
    "# Function to randomly select support options (multiple choices allowed)\n",
    "def random_support():\n",
    "    return ', '.join(random.sample(support_options, random.randint(1, 3)))\n",
    "\n",
    "# Generate synthetic data\n",
    "data = {\n",
    "    'Age': [random.choice(ages) for _ in range(num_responses)],\n",
    "    'Gender': [random.choice(genders) for _ in range(num_responses)],\n",
    "    'Location': [random.choice(locations) for _ in range(num_responses)],\n",
    "    'Parental Occupation': [random.choice(parent_occupations) for _ in range(num_responses)],\n",
    "    'Study Hours': [random.choice(study_hours) for _ in range(num_responses)],\n",
    "    'Previously Written JAMB': [random.choice(['Yes', 'No']) for _ in range(num_responses)],\n",
    "    'WAEC English Score': [random.choice(waec_scores) for _ in range(num_responses)],\n",
    "    'WAEC Maths Score': [random.choice(waec_scores) for _ in range(num_responses)],\n",
    "    'Internet Access': [random.choice(['Yes', 'No']) for _ in range(num_responses)],\n",
    "    'Understanding of Subjects': [random.choice(understanding_levels) for _ in range(num_responses)],\n",
    "    'Confidence in JAMB Success': [random.choice(confidence_levels) for _ in range(num_responses)],\n",
    "    'CBT Experience': [random.choice(cbt_experience) for _ in range(num_responses)],\n",
    "    'Feelings about CBT': [random.choice(cbt_feelings) for _ in range(num_responses)],\n",
    "    'Learning Materials Availability': [random.choice(learning_materials_availability) for _ in range(num_responses)],\n",
    "    'Educational Technology Usage': [random.choice(edu_tech_usage) for _ in range(num_responses)],\n",
    "    'Support for Exam Preparation': [random_support() for _ in range(num_responses)],\n",
    "    'Suggestions for School Improvement': [random.choice(improvement_suggestions) for _ in range(num_responses)],\n",
    "    'Adequate JAMB Preparation': [random.choice(preparation) for _ in range(num_responses)]\n",
    "}\n",
    "\n",
    "# Create a DataFrame\n",
    "df = pd.DataFrame(data)\n",
    "\n",
    "# Save to CSV\n",
    "output_path = './synthetic_jamb_survey_data.csv'\n",
    "df.to_csv(output_path, index=False)\n",
    "\n",
    "output_path\n"
   ]
  },
  {
   "cell_type": "code",
   "execution_count": null,
   "metadata": {},
   "outputs": [],
   "source": []
  }
 ],
 "metadata": {
  "kernelspec": {
   "display_name": "ml-env",
   "language": "python",
   "name": "python3"
  },
  "language_info": {
   "codemirror_mode": {
    "name": "ipython",
    "version": 3
   },
   "file_extension": ".py",
   "mimetype": "text/x-python",
   "name": "python",
   "nbconvert_exporter": "python",
   "pygments_lexer": "ipython3",
   "version": "3.9.7"
  }
 },
 "nbformat": 4,
 "nbformat_minor": 2
}
